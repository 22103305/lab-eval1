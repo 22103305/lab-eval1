{
 "cells": [
  {
   "cell_type": "code",
   "execution_count": 56,
   "metadata": {},
   "outputs": [],
   "source": [
    "import numpy as np\n",
    "students=[{\"name\":\"adarsh\",\"class\":\"1\",\"height\":\"6\",\"weight\":\"60\",\"sport\":\"cricket\",\"calory\":\"300\" },{\"name\":\"hardik\",\"class\":\"2\",\"height\":\"6\",\"weight\":\"65\",\"sport\":\"badminton\",\"calory\":\"600\" },{\"name\":\"tushar\",\"class\":\"3\",\"height\":\"7\",\"weight\":\"70\",\"sport\":\"ludo\",\"calory\":\"100\" },{\"name\":\"nirajan\",\"class\":\"1\",\"height\":\"6\",\"weight\":\"70\",\"sport\":\"cricket\",\"calory\":\"500\" },]"
   ]
  },
  {
   "cell_type": "code",
   "execution_count": null,
   "metadata": {},
   "outputs": [],
   "source": []
  },
  {
   "cell_type": "code",
   "execution_count": 57,
   "metadata": {},
   "outputs": [
    {
     "name": "stdout",
     "output_type": "stream",
     "text": [
      "adarsh : Green\n",
      "hardik : Green\n",
      "tushar :Orange,Red\n",
      "nirajan : Green\n"
     ]
    }
   ],
   "source": [
    "bmi=1.6\n",
    "calory=300\n",
    "for student in students :\n",
    "    cal=int(student['calory'])\n",
    "    h=int(student['height'])\n",
    "    w=int(student['weight'])\n",
    "    if(cal>=300):\n",
    "            print(student['name']+\" :\"+\" Green\")\n",
    "    else:\n",
    "            flag=\"Orange\"\n",
    "            if(int(student['weight'])<(bmi*h*h)):\n",
    "               flag=flag+\",Red\"\n",
    "                \n",
    "            print(student['name']+\" :\"+flag)\n",
    "    \n",
    "        "
   ]
  },
  {
   "cell_type": "code",
   "execution_count": null,
   "metadata": {},
   "outputs": [],
   "source": []
  },
  {
   "cell_type": "code",
   "execution_count": null,
   "metadata": {},
   "outputs": [],
   "source": []
  }
 ],
 "metadata": {
  "kernelspec": {
   "display_name": "Python 3",
   "language": "python",
   "name": "python3"
  },
  "language_info": {
   "codemirror_mode": {
    "name": "ipython",
    "version": 3
   },
   "file_extension": ".py",
   "mimetype": "text/x-python",
   "name": "python",
   "nbconvert_exporter": "python",
   "pygments_lexer": "ipython3",
   "version": "3.7.3"
  }
 },
 "nbformat": 4,
 "nbformat_minor": 2
}
